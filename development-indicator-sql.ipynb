{
 "cells": [
  {
   "cell_type": "code",
   "execution_count": 1,
   "id": "4cfe3ee3",
   "metadata": {
    "_cell_guid": "b1076dfc-b9ad-4769-8c92-a6c4dae69d19",
    "_kg_hide-input": true,
    "_uuid": "8f2839f25d086af736a60e9eeb907d3b93b6e0e5",
    "execution": {
     "iopub.execute_input": "2022-12-25T13:57:05.476519Z",
     "iopub.status.busy": "2022-12-25T13:57:05.475337Z",
     "iopub.status.idle": "2022-12-25T13:57:05.496634Z",
     "shell.execute_reply": "2022-12-25T13:57:05.495228Z"
    },
    "papermill": {
     "duration": 0.039377,
     "end_time": "2022-12-25T13:57:05.499850",
     "exception": false,
     "start_time": "2022-12-25T13:57:05.460473",
     "status": "completed"
    },
    "tags": []
   },
   "outputs": [
    {
     "name": "stdout",
     "output_type": "stream",
     "text": [
      "/kaggle/input/world-development-indicators-2022/WDISeries.csv\n",
      "/kaggle/input/world-development-indicators-2022/indicators.sqlite\n",
      "/kaggle/input/world-development-indicators-2022/WDICountry-Series.csv\n",
      "/kaggle/input/world-development-indicators-2022/WDICountry.csv\n",
      "/kaggle/input/world-development-indicators-2022/WDIFootNote.csv\n",
      "/kaggle/input/world-development-indicators-2022/WDIData.csv\n",
      "/kaggle/input/world-development-indicators-2022/WDISeries-Time.csv\n"
     ]
    }
   ],
   "source": [
    "import os\n",
    "for dirname, _, filenames in os.walk('/kaggle/input'):\n",
    "    for filename in filenames:\n",
    "        print(os.path.join(dirname, filename))\n"
   ]
  },
  {
   "cell_type": "code",
   "execution_count": 2,
   "id": "bbca72ae",
   "metadata": {
    "execution": {
     "iopub.execute_input": "2022-12-25T13:57:05.521152Z",
     "iopub.status.busy": "2022-12-25T13:57:05.520683Z",
     "iopub.status.idle": "2022-12-25T13:57:05.526585Z",
     "shell.execute_reply": "2022-12-25T13:57:05.525294Z"
    },
    "papermill": {
     "duration": 0.018943,
     "end_time": "2022-12-25T13:57:05.529002",
     "exception": false,
     "start_time": "2022-12-25T13:57:05.510059",
     "status": "completed"
    },
    "tags": []
   },
   "outputs": [],
   "source": [
    "# Adress of database\n",
    "adress='/kaggle/input/world-development-indicators-2022/indicators.sqlite'"
   ]
  },
  {
   "cell_type": "markdown",
   "id": "b3a33588",
   "metadata": {
    "papermill": {
     "duration": 0.008673,
     "end_time": "2022-12-25T13:57:05.547293",
     "exception": false,
     "start_time": "2022-12-25T13:57:05.538620",
     "status": "completed"
    },
    "tags": []
   },
   "source": [
    "# IMPORTING"
   ]
  },
  {
   "cell_type": "code",
   "execution_count": 3,
   "id": "da1297d6",
   "metadata": {
    "execution": {
     "iopub.execute_input": "2022-12-25T13:57:05.567720Z",
     "iopub.status.busy": "2022-12-25T13:57:05.566815Z",
     "iopub.status.idle": "2022-12-25T13:57:06.794179Z",
     "shell.execute_reply": "2022-12-25T13:57:06.792781Z"
    },
    "papermill": {
     "duration": 1.241125,
     "end_time": "2022-12-25T13:57:06.797549",
     "exception": false,
     "start_time": "2022-12-25T13:57:05.556424",
     "status": "completed"
    },
    "tags": []
   },
   "outputs": [],
   "source": [
    "import pandas as pd\n",
    "import matplotlib.pyplot as plt\n",
    "import seaborn as sns\n",
    "import sqlite3"
   ]
  },
  {
   "cell_type": "code",
   "execution_count": 4,
   "id": "fd1de002",
   "metadata": {
    "execution": {
     "iopub.execute_input": "2022-12-25T13:57:06.821391Z",
     "iopub.status.busy": "2022-12-25T13:57:06.820913Z",
     "iopub.status.idle": "2022-12-25T13:57:06.831778Z",
     "shell.execute_reply": "2022-12-25T13:57:06.830133Z"
    },
    "papermill": {
     "duration": 0.025898,
     "end_time": "2022-12-25T13:57:06.835010",
     "exception": false,
     "start_time": "2022-12-25T13:57:06.809112",
     "status": "completed"
    },
    "tags": []
   },
   "outputs": [],
   "source": [
    "con = sqlite3.connect(adress)"
   ]
  },
  {
   "cell_type": "markdown",
   "id": "36d2e064",
   "metadata": {
    "papermill": {
     "duration": 0.009439,
     "end_time": "2022-12-25T13:57:06.854541",
     "exception": false,
     "start_time": "2022-12-25T13:57:06.845102",
     "status": "completed"
    },
    "tags": []
   },
   "source": [
    "# Exploratory of data"
   ]
  },
  {
   "cell_type": "code",
   "execution_count": 5,
   "id": "645a0f13",
   "metadata": {
    "_kg_hide-input": true,
    "execution": {
     "iopub.execute_input": "2022-12-25T13:57:06.878694Z",
     "iopub.status.busy": "2022-12-25T13:57:06.877679Z",
     "iopub.status.idle": "2022-12-25T13:57:06.927788Z",
     "shell.execute_reply": "2022-12-25T13:57:06.925931Z"
    },
    "papermill": {
     "duration": 0.064287,
     "end_time": "2022-12-25T13:57:06.930559",
     "exception": false,
     "start_time": "2022-12-25T13:57:06.866272",
     "status": "completed"
    },
    "tags": []
   },
   "outputs": [
    {
     "name": "stdout",
     "output_type": "stream",
     "text": [
      "TABLES OF DATABASE\n"
     ]
    },
    {
     "data": {
      "text/html": [
       "<div>\n",
       "<style scoped>\n",
       "    .dataframe tbody tr th:only-of-type {\n",
       "        vertical-align: middle;\n",
       "    }\n",
       "\n",
       "    .dataframe tbody tr th {\n",
       "        vertical-align: top;\n",
       "    }\n",
       "\n",
       "    .dataframe thead th {\n",
       "        text-align: right;\n",
       "    }\n",
       "</style>\n",
       "<table border=\"1\" class=\"dataframe\">\n",
       "  <thead>\n",
       "    <tr style=\"text-align: right;\">\n",
       "      <th></th>\n",
       "      <th>type</th>\n",
       "      <th>name</th>\n",
       "      <th>tbl_name</th>\n",
       "      <th>rootpage</th>\n",
       "      <th>sql</th>\n",
       "    </tr>\n",
       "  </thead>\n",
       "  <tbody>\n",
       "    <tr>\n",
       "      <th>0</th>\n",
       "      <td>table</td>\n",
       "      <td>Country</td>\n",
       "      <td>Country</td>\n",
       "      <td>2</td>\n",
       "      <td>CREATE TABLE Country (\\n    CountryCode TEXT,\\...</td>\n",
       "    </tr>\n",
       "    <tr>\n",
       "      <th>1</th>\n",
       "      <td>table</td>\n",
       "      <td>CountryNotes</td>\n",
       "      <td>CountryNotes</td>\n",
       "      <td>186</td>\n",
       "      <td>CREATE TABLE CountryNotes (\\n    Countrycode T...</td>\n",
       "    </tr>\n",
       "    <tr>\n",
       "      <th>2</th>\n",
       "      <td>table</td>\n",
       "      <td>Series</td>\n",
       "      <td>Series</td>\n",
       "      <td>948</td>\n",
       "      <td>CREATE TABLE Series (\\n    SeriesCode TEXT,\\n ...</td>\n",
       "    </tr>\n",
       "    <tr>\n",
       "      <th>3</th>\n",
       "      <td>table</td>\n",
       "      <td>Indicators</td>\n",
       "      <td>Indicators</td>\n",
       "      <td>4448</td>\n",
       "      <td>CREATE TABLE Indicators (\\n    CountryName TEX...</td>\n",
       "    </tr>\n",
       "    <tr>\n",
       "      <th>4</th>\n",
       "      <td>table</td>\n",
       "      <td>SeriesNotes</td>\n",
       "      <td>SeriesNotes</td>\n",
       "      <td>1317550</td>\n",
       "      <td>CREATE TABLE SeriesNotes (\\n    Seriescode TEX...</td>\n",
       "    </tr>\n",
       "    <tr>\n",
       "      <th>5</th>\n",
       "      <td>table</td>\n",
       "      <td>Footnotes</td>\n",
       "      <td>Footnotes</td>\n",
       "      <td>1317587</td>\n",
       "      <td>CREATE TABLE Footnotes (\\n    Countrycode TEXT...</td>\n",
       "    </tr>\n",
       "  </tbody>\n",
       "</table>\n",
       "</div>"
      ],
      "text/plain": [
       "    type          name      tbl_name  rootpage  \\\n",
       "0  table       Country       Country         2   \n",
       "1  table  CountryNotes  CountryNotes       186   \n",
       "2  table        Series        Series       948   \n",
       "3  table    Indicators    Indicators      4448   \n",
       "4  table   SeriesNotes   SeriesNotes   1317550   \n",
       "5  table     Footnotes     Footnotes   1317587   \n",
       "\n",
       "                                                 sql  \n",
       "0  CREATE TABLE Country (\\n    CountryCode TEXT,\\...  \n",
       "1  CREATE TABLE CountryNotes (\\n    Countrycode T...  \n",
       "2  CREATE TABLE Series (\\n    SeriesCode TEXT,\\n ...  \n",
       "3  CREATE TABLE Indicators (\\n    CountryName TEX...  \n",
       "4  CREATE TABLE SeriesNotes (\\n    Seriescode TEX...  \n",
       "5  CREATE TABLE Footnotes (\\n    Countrycode TEXT...  "
      ]
     },
     "execution_count": 5,
     "metadata": {},
     "output_type": "execute_result"
    }
   ],
   "source": [
    "#Show tables\n",
    "tables = pd.read_sql('''select * from sqlite_master where type='table';''', con)\n",
    "print(\"TABLES OF DATABASE\")\n",
    "tables\n"
   ]
  },
  {
   "cell_type": "code",
   "execution_count": 6,
   "id": "a8219855",
   "metadata": {
    "execution": {
     "iopub.execute_input": "2022-12-25T13:57:06.952405Z",
     "iopub.status.busy": "2022-12-25T13:57:06.951864Z",
     "iopub.status.idle": "2022-12-25T13:57:06.997012Z",
     "shell.execute_reply": "2022-12-25T13:57:06.995613Z"
    },
    "papermill": {
     "duration": 0.059163,
     "end_time": "2022-12-25T13:57:06.999962",
     "exception": false,
     "start_time": "2022-12-25T13:57:06.940799",
     "status": "completed"
    },
    "tags": []
   },
   "outputs": [
    {
     "data": {
      "text/html": [
       "<div>\n",
       "<style scoped>\n",
       "    .dataframe tbody tr th:only-of-type {\n",
       "        vertical-align: middle;\n",
       "    }\n",
       "\n",
       "    .dataframe tbody tr th {\n",
       "        vertical-align: top;\n",
       "    }\n",
       "\n",
       "    .dataframe thead th {\n",
       "        text-align: right;\n",
       "    }\n",
       "</style>\n",
       "<table border=\"1\" class=\"dataframe\">\n",
       "  <thead>\n",
       "    <tr style=\"text-align: right;\">\n",
       "      <th></th>\n",
       "      <th>CountryCode</th>\n",
       "      <th>ShortName</th>\n",
       "      <th>TableName</th>\n",
       "      <th>LongName</th>\n",
       "      <th>Alpha2Code</th>\n",
       "      <th>CurrencyUnit</th>\n",
       "      <th>SpecialNotes</th>\n",
       "      <th>Region</th>\n",
       "      <th>IncomeGroup</th>\n",
       "      <th>Wb2Code</th>\n",
       "      <th>...</th>\n",
       "      <th>GovernmentAccountingConcept</th>\n",
       "      <th>ImfDataDisseminationStandard</th>\n",
       "      <th>LatestPopulationCensus</th>\n",
       "      <th>LatestHouseholdSurvey</th>\n",
       "      <th>SourceOfMostRecentIncomeAndExpenditureData</th>\n",
       "      <th>VitalRegistrationComplete</th>\n",
       "      <th>LatestAgriculturalCensus</th>\n",
       "      <th>LatestIndustrialData</th>\n",
       "      <th>LatestTradeData</th>\n",
       "      <th>LatestWaterWithdrawalData</th>\n",
       "    </tr>\n",
       "  </thead>\n",
       "  <tbody>\n",
       "    <tr>\n",
       "      <th>0</th>\n",
       "      <td>AFG</td>\n",
       "      <td>Afghanistan</td>\n",
       "      <td>Afghanistan</td>\n",
       "      <td>Islamic State of Afghanistan</td>\n",
       "      <td>AF</td>\n",
       "      <td>Afghan afghani</td>\n",
       "      <td>Fiscal year end: March 20; reporting period fo...</td>\n",
       "      <td>South Asia</td>\n",
       "      <td>Low income</td>\n",
       "      <td>AF</td>\n",
       "      <td>...</td>\n",
       "      <td>Consolidated central government</td>\n",
       "      <td>General Data Dissemination System (GDDS)</td>\n",
       "      <td>1979</td>\n",
       "      <td>Multiple Indicator Cluster Survey (MICS), 2010/11</td>\n",
       "      <td>Integrated household survey (IHS), 2008</td>\n",
       "      <td></td>\n",
       "      <td>2013/14</td>\n",
       "      <td></td>\n",
       "      <td>2013</td>\n",
       "      <td>2000</td>\n",
       "    </tr>\n",
       "    <tr>\n",
       "      <th>1</th>\n",
       "      <td>ALB</td>\n",
       "      <td>Albania</td>\n",
       "      <td>Albania</td>\n",
       "      <td>Republic of Albania</td>\n",
       "      <td>AL</td>\n",
       "      <td>Albanian lek</td>\n",
       "      <td></td>\n",
       "      <td>Europe &amp; Central Asia</td>\n",
       "      <td>Upper middle income</td>\n",
       "      <td>AL</td>\n",
       "      <td>...</td>\n",
       "      <td>Budgetary central government</td>\n",
       "      <td>General Data Dissemination System (GDDS)</td>\n",
       "      <td>2011</td>\n",
       "      <td>Demographic and Health Survey (DHS), 2008/09</td>\n",
       "      <td>Living Standards Measurement Study Survey (LSM...</td>\n",
       "      <td>Yes</td>\n",
       "      <td>2012</td>\n",
       "      <td>2011</td>\n",
       "      <td>2013</td>\n",
       "      <td>2006</td>\n",
       "    </tr>\n",
       "  </tbody>\n",
       "</table>\n",
       "<p>2 rows × 31 columns</p>\n",
       "</div>"
      ],
      "text/plain": [
       "  CountryCode    ShortName    TableName                      LongName  \\\n",
       "0         AFG  Afghanistan  Afghanistan  Islamic State of Afghanistan   \n",
       "1         ALB      Albania      Albania           Republic of Albania   \n",
       "\n",
       "  Alpha2Code    CurrencyUnit  \\\n",
       "0         AF  Afghan afghani   \n",
       "1         AL    Albanian lek   \n",
       "\n",
       "                                        SpecialNotes                 Region  \\\n",
       "0  Fiscal year end: March 20; reporting period fo...             South Asia   \n",
       "1                                                     Europe & Central Asia   \n",
       "\n",
       "           IncomeGroup Wb2Code  ...      GovernmentAccountingConcept  \\\n",
       "0           Low income      AF  ...  Consolidated central government   \n",
       "1  Upper middle income      AL  ...     Budgetary central government   \n",
       "\n",
       "               ImfDataDisseminationStandard LatestPopulationCensus  \\\n",
       "0  General Data Dissemination System (GDDS)                   1979   \n",
       "1  General Data Dissemination System (GDDS)                   2011   \n",
       "\n",
       "                               LatestHouseholdSurvey  \\\n",
       "0  Multiple Indicator Cluster Survey (MICS), 2010/11   \n",
       "1       Demographic and Health Survey (DHS), 2008/09   \n",
       "\n",
       "          SourceOfMostRecentIncomeAndExpenditureData  \\\n",
       "0            Integrated household survey (IHS), 2008   \n",
       "1  Living Standards Measurement Study Survey (LSM...   \n",
       "\n",
       "  VitalRegistrationComplete LatestAgriculturalCensus LatestIndustrialData  \\\n",
       "0                                            2013/14                        \n",
       "1                       Yes                     2012                 2011   \n",
       "\n",
       "  LatestTradeData LatestWaterWithdrawalData  \n",
       "0            2013                      2000  \n",
       "1            2013                      2006  \n",
       "\n",
       "[2 rows x 31 columns]"
      ]
     },
     "execution_count": 6,
     "metadata": {},
     "output_type": "execute_result"
    }
   ],
   "source": [
    "country=pd.read_sql('''select * from Country;''', con)\n",
    "country.head(2)"
   ]
  },
  {
   "cell_type": "code",
   "execution_count": 7,
   "id": "162d2ad8",
   "metadata": {
    "execution": {
     "iopub.execute_input": "2022-12-25T13:57:07.028167Z",
     "iopub.status.busy": "2022-12-25T13:57:07.027614Z",
     "iopub.status.idle": "2022-12-25T13:57:07.040841Z",
     "shell.execute_reply": "2022-12-25T13:57:07.039302Z"
    },
    "papermill": {
     "duration": 0.031252,
     "end_time": "2022-12-25T13:57:07.043354",
     "exception": false,
     "start_time": "2022-12-25T13:57:07.012102",
     "status": "completed"
    },
    "tags": []
   },
   "outputs": [
    {
     "data": {
      "text/plain": [
       "array(['South Asia', 'Europe & Central Asia',\n",
       "       'Middle East & North Africa', 'East Asia & Pacific',\n",
       "       'Sub-Saharan Africa', 'Latin America & Caribbean', '',\n",
       "       'North America'], dtype=object)"
      ]
     },
     "execution_count": 7,
     "metadata": {},
     "output_type": "execute_result"
    }
   ],
   "source": [
    "country['Region'].unique()"
   ]
  },
  {
   "cell_type": "markdown",
   "id": "18c5d625",
   "metadata": {
    "papermill": {
     "duration": 0.009732,
     "end_time": "2022-12-25T13:57:07.063696",
     "exception": false,
     "start_time": "2022-12-25T13:57:07.053964",
     "status": "completed"
    },
    "tags": []
   },
   "source": [
    "# Filter data "
   ]
  },
  {
   "cell_type": "markdown",
   "id": "1519622d",
   "metadata": {
    "papermill": {
     "duration": 0.010114,
     "end_time": "2022-12-25T13:57:07.085740",
     "exception": false,
     "start_time": "2022-12-25T13:57:07.075626",
     "status": "completed"
    },
    "tags": []
   },
   "source": [
    "## Separate countries of Middle East & North Africa for Analysis"
   ]
  },
  {
   "cell_type": "code",
   "execution_count": 8,
   "id": "39a30cb8",
   "metadata": {
    "execution": {
     "iopub.execute_input": "2022-12-25T13:57:07.108833Z",
     "iopub.status.busy": "2022-12-25T13:57:07.108339Z",
     "iopub.status.idle": "2022-12-25T13:57:07.125299Z",
     "shell.execute_reply": "2022-12-25T13:57:07.123746Z"
    },
    "papermill": {
     "duration": 0.031881,
     "end_time": "2022-12-25T13:57:07.128156",
     "exception": false,
     "start_time": "2022-12-25T13:57:07.096275",
     "status": "completed"
    },
    "tags": []
   },
   "outputs": [
    {
     "data": {
      "text/html": [
       "<div>\n",
       "<style scoped>\n",
       "    .dataframe tbody tr th:only-of-type {\n",
       "        vertical-align: middle;\n",
       "    }\n",
       "\n",
       "    .dataframe tbody tr th {\n",
       "        vertical-align: top;\n",
       "    }\n",
       "\n",
       "    .dataframe thead th {\n",
       "        text-align: right;\n",
       "    }\n",
       "</style>\n",
       "<table border=\"1\" class=\"dataframe\">\n",
       "  <thead>\n",
       "    <tr style=\"text-align: right;\">\n",
       "      <th></th>\n",
       "      <th>ShortName</th>\n",
       "    </tr>\n",
       "  </thead>\n",
       "  <tbody>\n",
       "    <tr>\n",
       "      <th>0</th>\n",
       "      <td>Algeria</td>\n",
       "    </tr>\n",
       "    <tr>\n",
       "      <th>1</th>\n",
       "      <td>Bahrain</td>\n",
       "    </tr>\n",
       "    <tr>\n",
       "      <th>2</th>\n",
       "      <td>Djibouti</td>\n",
       "    </tr>\n",
       "    <tr>\n",
       "      <th>3</th>\n",
       "      <td>Egypt</td>\n",
       "    </tr>\n",
       "    <tr>\n",
       "      <th>4</th>\n",
       "      <td>Iran</td>\n",
       "    </tr>\n",
       "    <tr>\n",
       "      <th>5</th>\n",
       "      <td>Iraq</td>\n",
       "    </tr>\n",
       "    <tr>\n",
       "      <th>6</th>\n",
       "      <td>Israel</td>\n",
       "    </tr>\n",
       "    <tr>\n",
       "      <th>7</th>\n",
       "      <td>Jordan</td>\n",
       "    </tr>\n",
       "    <tr>\n",
       "      <th>8</th>\n",
       "      <td>Kuwait</td>\n",
       "    </tr>\n",
       "    <tr>\n",
       "      <th>9</th>\n",
       "      <td>Lebanon</td>\n",
       "    </tr>\n",
       "    <tr>\n",
       "      <th>10</th>\n",
       "      <td>Libya</td>\n",
       "    </tr>\n",
       "    <tr>\n",
       "      <th>11</th>\n",
       "      <td>Malta</td>\n",
       "    </tr>\n",
       "    <tr>\n",
       "      <th>12</th>\n",
       "      <td>Morocco</td>\n",
       "    </tr>\n",
       "    <tr>\n",
       "      <th>13</th>\n",
       "      <td>Oman</td>\n",
       "    </tr>\n",
       "    <tr>\n",
       "      <th>14</th>\n",
       "      <td>Qatar</td>\n",
       "    </tr>\n",
       "    <tr>\n",
       "      <th>15</th>\n",
       "      <td>Saudi Arabia</td>\n",
       "    </tr>\n",
       "    <tr>\n",
       "      <th>16</th>\n",
       "      <td>Syrian Arab Republic</td>\n",
       "    </tr>\n",
       "    <tr>\n",
       "      <th>17</th>\n",
       "      <td>Tunisia</td>\n",
       "    </tr>\n",
       "    <tr>\n",
       "      <th>18</th>\n",
       "      <td>United Arab Emirates</td>\n",
       "    </tr>\n",
       "    <tr>\n",
       "      <th>19</th>\n",
       "      <td>West Bank and Gaza</td>\n",
       "    </tr>\n",
       "    <tr>\n",
       "      <th>20</th>\n",
       "      <td>Yemen</td>\n",
       "    </tr>\n",
       "  </tbody>\n",
       "</table>\n",
       "</div>"
      ],
      "text/plain": [
       "               ShortName\n",
       "0                Algeria\n",
       "1                Bahrain\n",
       "2               Djibouti\n",
       "3                  Egypt\n",
       "4                   Iran\n",
       "5                   Iraq\n",
       "6                 Israel\n",
       "7                 Jordan\n",
       "8                 Kuwait\n",
       "9                Lebanon\n",
       "10                 Libya\n",
       "11                 Malta\n",
       "12               Morocco\n",
       "13                  Oman\n",
       "14                 Qatar\n",
       "15          Saudi Arabia\n",
       "16  Syrian Arab Republic\n",
       "17               Tunisia\n",
       "18  United Arab Emirates\n",
       "19    West Bank and Gaza\n",
       "20                 Yemen"
      ]
     },
     "execution_count": 8,
     "metadata": {},
     "output_type": "execute_result"
    }
   ],
   "source": [
    "country=pd.read_sql('''select ShortName from Country\n",
    "where Region ='Middle East & North Africa';''', con)\n",
    "country"
   ]
  },
  {
   "cell_type": "code",
   "execution_count": 9,
   "id": "f1ae4c48",
   "metadata": {
    "execution": {
     "iopub.execute_input": "2022-12-25T13:57:07.150661Z",
     "iopub.status.busy": "2022-12-25T13:57:07.150160Z",
     "iopub.status.idle": "2022-12-25T13:57:07.156419Z",
     "shell.execute_reply": "2022-12-25T13:57:07.155170Z"
    },
    "papermill": {
     "duration": 0.020217,
     "end_time": "2022-12-25T13:57:07.158753",
     "exception": false,
     "start_time": "2022-12-25T13:57:07.138536",
     "status": "completed"
    },
    "tags": []
   },
   "outputs": [],
   "source": [
    "# Drop Fake countries\n",
    "if \"Israel\" in country:\n",
    "    country.drop(6, axis=0, inplace = True)"
   ]
  },
  {
   "cell_type": "code",
   "execution_count": 10,
   "id": "48e1f9d3",
   "metadata": {
    "execution": {
     "iopub.execute_input": "2022-12-25T13:57:07.181232Z",
     "iopub.status.busy": "2022-12-25T13:57:07.180785Z",
     "iopub.status.idle": "2022-12-25T13:57:07.187386Z",
     "shell.execute_reply": "2022-12-25T13:57:07.186027Z"
    },
    "papermill": {
     "duration": 0.020853,
     "end_time": "2022-12-25T13:57:07.189895",
     "exception": false,
     "start_time": "2022-12-25T13:57:07.169042",
     "status": "completed"
    },
    "tags": []
   },
   "outputs": [],
   "source": [
    "# Convert name of Egypt to match same name in Indicators table\n",
    "country['ShortName'].replace({'Egypt':'Egypt, Arab Rep.'}, inplace=True)"
   ]
  },
  {
   "cell_type": "code",
   "execution_count": 11,
   "id": "50505236",
   "metadata": {
    "execution": {
     "iopub.execute_input": "2022-12-25T13:57:07.214047Z",
     "iopub.status.busy": "2022-12-25T13:57:07.213310Z",
     "iopub.status.idle": "2022-12-25T13:57:07.219342Z",
     "shell.execute_reply": "2022-12-25T13:57:07.217799Z"
    },
    "papermill": {
     "duration": 0.02161,
     "end_time": "2022-12-25T13:57:07.222213",
     "exception": false,
     "start_time": "2022-12-25T13:57:07.200603",
     "status": "completed"
    },
    "tags": []
   },
   "outputs": [],
   "source": [
    "c=country['ShortName'].unique()"
   ]
  },
  {
   "cell_type": "code",
   "execution_count": 12,
   "id": "be671641",
   "metadata": {
    "execution": {
     "iopub.execute_input": "2022-12-25T13:57:07.245661Z",
     "iopub.status.busy": "2022-12-25T13:57:07.245187Z",
     "iopub.status.idle": "2022-12-25T13:57:07.253882Z",
     "shell.execute_reply": "2022-12-25T13:57:07.252352Z"
    },
    "papermill": {
     "duration": 0.02312,
     "end_time": "2022-12-25T13:57:07.256598",
     "exception": false,
     "start_time": "2022-12-25T13:57:07.233478",
     "status": "completed"
    },
    "tags": []
   },
   "outputs": [
    {
     "data": {
      "text/plain": [
       "('Algeria',\n",
       " 'Bahrain',\n",
       " 'Djibouti',\n",
       " 'Egypt, Arab Rep.',\n",
       " 'Iran',\n",
       " 'Iraq',\n",
       " 'Israel',\n",
       " 'Jordan',\n",
       " 'Kuwait',\n",
       " 'Lebanon',\n",
       " 'Libya',\n",
       " 'Malta',\n",
       " 'Morocco',\n",
       " 'Oman',\n",
       " 'Qatar',\n",
       " 'Saudi Arabia',\n",
       " 'Syrian Arab Republic',\n",
       " 'Tunisia',\n",
       " 'United Arab Emirates',\n",
       " 'West Bank and Gaza',\n",
       " 'Yemen')"
      ]
     },
     "execution_count": 12,
     "metadata": {},
     "output_type": "execute_result"
    }
   ],
   "source": [
    "# Tuple of countries to filter\n",
    "tuple(list(c))"
   ]
  },
  {
   "cell_type": "code",
   "execution_count": 13,
   "id": "d1f1fc84",
   "metadata": {
    "execution": {
     "iopub.execute_input": "2022-12-25T13:57:07.279083Z",
     "iopub.status.busy": "2022-12-25T13:57:07.278643Z",
     "iopub.status.idle": "2022-12-25T13:57:15.476226Z",
     "shell.execute_reply": "2022-12-25T13:57:15.474588Z"
    },
    "papermill": {
     "duration": 8.212131,
     "end_time": "2022-12-25T13:57:15.479149",
     "exception": false,
     "start_time": "2022-12-25T13:57:07.267018",
     "status": "completed"
    },
    "tags": []
   },
   "outputs": [
    {
     "data": {
      "text/html": [
       "<div>\n",
       "<style scoped>\n",
       "    .dataframe tbody tr th:only-of-type {\n",
       "        vertical-align: middle;\n",
       "    }\n",
       "\n",
       "    .dataframe tbody tr th {\n",
       "        vertical-align: top;\n",
       "    }\n",
       "\n",
       "    .dataframe thead th {\n",
       "        text-align: right;\n",
       "    }\n",
       "</style>\n",
       "<table border=\"1\" class=\"dataframe\">\n",
       "  <thead>\n",
       "    <tr style=\"text-align: right;\">\n",
       "      <th></th>\n",
       "      <th>CountryName</th>\n",
       "      <th>CountryCode</th>\n",
       "      <th>IndicatorName</th>\n",
       "      <th>IndicatorCode</th>\n",
       "      <th>Year</th>\n",
       "      <th>Value</th>\n",
       "    </tr>\n",
       "  </thead>\n",
       "  <tbody>\n",
       "    <tr>\n",
       "      <th>0</th>\n",
       "      <td>Algeria</td>\n",
       "      <td>DZA</td>\n",
       "      <td>Adolescent fertility rate (births per 1,000 wo...</td>\n",
       "      <td>SP.ADO.TFRT</td>\n",
       "      <td>1960</td>\n",
       "      <td>123.88920</td>\n",
       "    </tr>\n",
       "    <tr>\n",
       "      <th>1</th>\n",
       "      <td>Algeria</td>\n",
       "      <td>DZA</td>\n",
       "      <td>Age dependency ratio (% of working-age populat...</td>\n",
       "      <td>SP.POP.DPND</td>\n",
       "      <td>1960</td>\n",
       "      <td>91.42517</td>\n",
       "    </tr>\n",
       "  </tbody>\n",
       "</table>\n",
       "</div>"
      ],
      "text/plain": [
       "  CountryName CountryCode                                      IndicatorName  \\\n",
       "0     Algeria         DZA  Adolescent fertility rate (births per 1,000 wo...   \n",
       "1     Algeria         DZA  Age dependency ratio (% of working-age populat...   \n",
       "\n",
       "  IndicatorCode  Year      Value  \n",
       "0   SP.ADO.TFRT  1960  123.88920  \n",
       "1   SP.POP.DPND  1960   91.42517  "
      ]
     },
     "execution_count": 13,
     "metadata": {},
     "output_type": "execute_result"
    }
   ],
   "source": [
    "indicator=pd.read_sql('''select * from Indicators where CountryName \n",
    "in ('Algeria',\n",
    " 'Bahrain',\n",
    " 'Djibouti',\n",
    " 'Egypt, Arab Rep.',\n",
    " 'Iran',\n",
    " 'Iraq',\n",
    " 'Jordan',\n",
    " 'Kuwait',\n",
    " 'Lebanon',\n",
    " 'Libya',\n",
    " 'Malta',\n",
    " 'Morocco',\n",
    " 'Oman',\n",
    " 'Qatar',\n",
    " 'Saudi Arabia',\n",
    " 'Syrian Arab Republic',\n",
    " 'Tunisia',\n",
    " 'United Arab Emirates',\n",
    " 'West Bank and Gaza',\n",
    " 'Yemen');''',con) \n",
    "indicator.head(2)"
   ]
  },
  {
   "cell_type": "code",
   "execution_count": 14,
   "id": "585eb027",
   "metadata": {
    "execution": {
     "iopub.execute_input": "2022-12-25T13:57:15.502307Z",
     "iopub.status.busy": "2022-12-25T13:57:15.501846Z",
     "iopub.status.idle": "2022-12-25T13:57:15.510540Z",
     "shell.execute_reply": "2022-12-25T13:57:15.509076Z"
    },
    "papermill": {
     "duration": 0.02332,
     "end_time": "2022-12-25T13:57:15.513159",
     "exception": false,
     "start_time": "2022-12-25T13:57:15.489839",
     "status": "completed"
    },
    "tags": []
   },
   "outputs": [
    {
     "data": {
      "text/plain": [
       "(430306, 6)"
      ]
     },
     "execution_count": 14,
     "metadata": {},
     "output_type": "execute_result"
    }
   ],
   "source": [
    "indicator.shape"
   ]
  },
  {
   "cell_type": "code",
   "execution_count": 15,
   "id": "787a6551",
   "metadata": {
    "execution": {
     "iopub.execute_input": "2022-12-25T13:57:15.536372Z",
     "iopub.status.busy": "2022-12-25T13:57:15.535873Z",
     "iopub.status.idle": "2022-12-25T13:57:15.866147Z",
     "shell.execute_reply": "2022-12-25T13:57:15.864026Z"
    },
    "papermill": {
     "duration": 0.346254,
     "end_time": "2022-12-25T13:57:15.870064",
     "exception": false,
     "start_time": "2022-12-25T13:57:15.523810",
     "status": "completed"
    },
    "tags": []
   },
   "outputs": [
    {
     "data": {
      "image/png": "[encoded data removed]",
      "text/plain": [
       "<Figure size 432x288 with 1 Axes>"
      ]
     },
     "metadata": {
      "needs_background": "light"
     },
     "output_type": "display_data"
    }
   ],
   "source": [
    "germany=indicator[(indicator['CountryName']=='Egypt, Arab Rep.')].groupby('Year')['Value'].sum()\n",
    "germany.plot()\n",
    "plt.title(\"Development of Egypt between 1960 and 2015\");"
   ]
  },
  {
   "cell_type": "markdown",
   "id": "687a25ed",
   "metadata": {
    "papermill": {
     "duration": 0.010936,
     "end_time": "2022-12-25T13:57:15.892938",
     "exception": false,
     "start_time": "2022-12-25T13:57:15.882002",
     "status": "completed"
    },
    "tags": []
   },
   "source": [
    "### Total value of development indicator decrease by year 2014 but that may because of the decrease of available indicators in these year, I will check that by calculating the number of indicators for each year"
   ]
  },
  {
   "cell_type": "code",
   "execution_count": 16,
   "id": "ef47ddea",
   "metadata": {
    "execution": {
     "iopub.execute_input": "2022-12-25T13:57:15.917859Z",
     "iopub.status.busy": "2022-12-25T13:57:15.916991Z",
     "iopub.status.idle": "2022-12-25T13:57:16.068194Z",
     "shell.execute_reply": "2022-12-25T13:57:16.066711Z"
    },
    "papermill": {
     "duration": 0.16709,
     "end_time": "2022-12-25T13:57:16.071252",
     "exception": false,
     "start_time": "2022-12-25T13:57:15.904162",
     "status": "completed"
    },
    "tags": []
   },
   "outputs": [
    {
     "data": {
      "text/html": [
       "<div>\n",
       "<style scoped>\n",
       "    .dataframe tbody tr th:only-of-type {\n",
       "        vertical-align: middle;\n",
       "    }\n",
       "\n",
       "    .dataframe tbody tr th {\n",
       "        vertical-align: top;\n",
       "    }\n",
       "\n",
       "    .dataframe thead th {\n",
       "        text-align: right;\n",
       "    }\n",
       "</style>\n",
       "<table border=\"1\" class=\"dataframe\">\n",
       "  <thead>\n",
       "    <tr style=\"text-align: right;\">\n",
       "      <th></th>\n",
       "      <th></th>\n",
       "      <th>IndicatorCode</th>\n",
       "    </tr>\n",
       "    <tr>\n",
       "      <th>CountryName</th>\n",
       "      <th>Year</th>\n",
       "      <th></th>\n",
       "    </tr>\n",
       "  </thead>\n",
       "  <tbody>\n",
       "    <tr>\n",
       "      <th rowspan=\"5\" valign=\"top\">Algeria</th>\n",
       "      <th>1960</th>\n",
       "      <td>176</td>\n",
       "    </tr>\n",
       "    <tr>\n",
       "      <th>1961</th>\n",
       "      <td>203</td>\n",
       "    </tr>\n",
       "    <tr>\n",
       "      <th>1962</th>\n",
       "      <td>189</td>\n",
       "    </tr>\n",
       "    <tr>\n",
       "      <th>1963</th>\n",
       "      <td>187</td>\n",
       "    </tr>\n",
       "    <tr>\n",
       "      <th>1964</th>\n",
       "      <td>199</td>\n",
       "    </tr>\n",
       "    <tr>\n",
       "      <th>...</th>\n",
       "      <th>...</th>\n",
       "      <td>...</td>\n",
       "    </tr>\n",
       "    <tr>\n",
       "      <th rowspan=\"5\" valign=\"top\">West Bank and Gaza</th>\n",
       "      <th>2011</th>\n",
       "      <td>605</td>\n",
       "    </tr>\n",
       "    <tr>\n",
       "      <th>2012</th>\n",
       "      <td>595</td>\n",
       "    </tr>\n",
       "    <tr>\n",
       "      <th>2013</th>\n",
       "      <td>603</td>\n",
       "    </tr>\n",
       "    <tr>\n",
       "      <th>2014</th>\n",
       "      <td>293</td>\n",
       "    </tr>\n",
       "    <tr>\n",
       "      <th>2015</th>\n",
       "      <td>52</td>\n",
       "    </tr>\n",
       "  </tbody>\n",
       "</table>\n",
       "<p>1008 rows × 1 columns</p>\n",
       "</div>"
      ],
      "text/plain": [
       "                         IndicatorCode\n",
       "CountryName        Year               \n",
       "Algeria            1960            176\n",
       "                   1961            203\n",
       "                   1962            189\n",
       "                   1963            187\n",
       "                   1964            199\n",
       "...                                ...\n",
       "West Bank and Gaza 2011            605\n",
       "                   2012            595\n",
       "                   2013            603\n",
       "                   2014            293\n",
       "                   2015             52\n",
       "\n",
       "[1008 rows x 1 columns]"
      ]
     },
     "execution_count": 16,
     "metadata": {},
     "output_type": "execute_result"
    }
   ],
   "source": [
    "# calculate indicators of each country of each year\n",
    "pd.DataFrame(indicator.groupby(['CountryName', 'Year'])['IndicatorCode'].count())"
   ]
  },
  {
   "cell_type": "markdown",
   "id": "7aadd60c",
   "metadata": {
    "papermill": {
     "duration": 0.010811,
     "end_time": "2022-12-25T13:57:16.093536",
     "exception": false,
     "start_time": "2022-12-25T13:57:16.082725",
     "status": "completed"
    },
    "tags": []
   },
   "source": [
    "### Number of Indicators are not the same for each year of same country so we can not compare development of coutries over the years!"
   ]
  },
  {
   "cell_type": "markdown",
   "id": "aba5882e",
   "metadata": {
    "papermill": {
     "duration": 0.010716,
     "end_time": "2022-12-25T13:57:16.115454",
     "exception": false,
     "start_time": "2022-12-25T13:57:16.104738",
     "status": "completed"
    },
    "tags": []
   },
   "source": [
    "### indicators for 2015 year for most companies are a little that will make false development decrease."
   ]
  },
  {
   "cell_type": "code",
   "execution_count": 17,
   "id": "9512d5df",
   "metadata": {
    "execution": {
     "iopub.execute_input": "2022-12-25T13:57:16.141347Z",
     "iopub.status.busy": "2022-12-25T13:57:16.140881Z",
     "iopub.status.idle": "2022-12-25T13:57:16.250109Z",
     "shell.execute_reply": "2022-12-25T13:57:16.248590Z"
    },
    "papermill": {
     "duration": 0.125371,
     "end_time": "2022-12-25T13:57:16.253216",
     "exception": false,
     "start_time": "2022-12-25T13:57:16.127845",
     "status": "completed"
    },
    "tags": []
   },
   "outputs": [
    {
     "data": {
      "text/html": [
       "<div>\n",
       "<style scoped>\n",
       "    .dataframe tbody tr th:only-of-type {\n",
       "        vertical-align: middle;\n",
       "    }\n",
       "\n",
       "    .dataframe tbody tr th {\n",
       "        vertical-align: top;\n",
       "    }\n",
       "\n",
       "    .dataframe thead th {\n",
       "        text-align: right;\n",
       "    }\n",
       "</style>\n",
       "<table border=\"1\" class=\"dataframe\">\n",
       "  <thead>\n",
       "    <tr style=\"text-align: right;\">\n",
       "      <th></th>\n",
       "      <th>IndicatorCode</th>\n",
       "    </tr>\n",
       "    <tr>\n",
       "      <th>CountryName</th>\n",
       "      <th></th>\n",
       "    </tr>\n",
       "  </thead>\n",
       "  <tbody>\n",
       "    <tr>\n",
       "      <th>Algeria</th>\n",
       "      <td>34578</td>\n",
       "    </tr>\n",
       "    <tr>\n",
       "      <th>Bahrain</th>\n",
       "      <td>17278</td>\n",
       "    </tr>\n",
       "    <tr>\n",
       "      <th>Djibouti</th>\n",
       "      <td>22923</td>\n",
       "    </tr>\n",
       "    <tr>\n",
       "      <th>Egypt, Arab Rep.</th>\n",
       "      <td>35367</td>\n",
       "    </tr>\n",
       "    <tr>\n",
       "      <th>Iraq</th>\n",
       "      <td>16792</td>\n",
       "    </tr>\n",
       "    <tr>\n",
       "      <th>Jordan</th>\n",
       "      <td>34050</td>\n",
       "    </tr>\n",
       "    <tr>\n",
       "      <th>Kuwait</th>\n",
       "      <td>19690</td>\n",
       "    </tr>\n",
       "    <tr>\n",
       "      <th>Lebanon</th>\n",
       "      <td>27334</td>\n",
       "    </tr>\n",
       "    <tr>\n",
       "      <th>Libya</th>\n",
       "      <td>13943</td>\n",
       "    </tr>\n",
       "    <tr>\n",
       "      <th>Malta</th>\n",
       "      <td>23199</td>\n",
       "    </tr>\n",
       "    <tr>\n",
       "      <th>Morocco</th>\n",
       "      <td>36275</td>\n",
       "    </tr>\n",
       "    <tr>\n",
       "      <th>Oman</th>\n",
       "      <td>20699</td>\n",
       "    </tr>\n",
       "    <tr>\n",
       "      <th>Qatar</th>\n",
       "      <td>16200</td>\n",
       "    </tr>\n",
       "    <tr>\n",
       "      <th>Saudi Arabia</th>\n",
       "      <td>18456</td>\n",
       "    </tr>\n",
       "    <tr>\n",
       "      <th>Syrian Arab Republic</th>\n",
       "      <td>31106</td>\n",
       "    </tr>\n",
       "    <tr>\n",
       "      <th>Tunisia</th>\n",
       "      <td>35302</td>\n",
       "    </tr>\n",
       "    <tr>\n",
       "      <th>United Arab Emirates</th>\n",
       "      <td>15379</td>\n",
       "    </tr>\n",
       "    <tr>\n",
       "      <th>West Bank and Gaza</th>\n",
       "      <td>11735</td>\n",
       "    </tr>\n",
       "  </tbody>\n",
       "</table>\n",
       "</div>"
      ],
      "text/plain": [
       "                      IndicatorCode\n",
       "CountryName                        \n",
       "Algeria                       34578\n",
       "Bahrain                       17278\n",
       "Djibouti                      22923\n",
       "Egypt, Arab Rep.              35367\n",
       "Iraq                          16792\n",
       "Jordan                        34050\n",
       "Kuwait                        19690\n",
       "Lebanon                       27334\n",
       "Libya                         13943\n",
       "Malta                         23199\n",
       "Morocco                       36275\n",
       "Oman                          20699\n",
       "Qatar                         16200\n",
       "Saudi Arabia                  18456\n",
       "Syrian Arab Republic          31106\n",
       "Tunisia                       35302\n",
       "United Arab Emirates          15379\n",
       "West Bank and Gaza            11735"
      ]
     },
     "execution_count": 17,
     "metadata": {},
     "output_type": "execute_result"
    }
   ],
   "source": [
    "# calculate indicators for each countries\n",
    "pd.DataFrame(indicator.groupby('CountryName')['IndicatorCode'].count())"
   ]
  },
  {
   "cell_type": "markdown",
   "id": "6d747ec2",
   "metadata": {
    "papermill": {
     "duration": 0.011046,
     "end_time": "2022-12-25T13:57:16.276484",
     "exception": false,
     "start_time": "2022-12-25T13:57:16.265438",
     "status": "completed"
    },
    "tags": []
   },
   "source": [
    "### Number of Indicators are not the same for each country so we can not compare development progress of countries to each other!"
   ]
  },
  {
   "cell_type": "code",
   "execution_count": 18,
   "id": "f560336c",
   "metadata": {
    "_kg_hide-input": true,
    "_kg_hide-output": true,
    "execution": {
     "iopub.execute_input": "2022-12-25T13:57:16.301803Z",
     "iopub.status.busy": "2022-12-25T13:57:16.301116Z",
     "iopub.status.idle": "2022-12-25T13:57:16.365062Z",
     "shell.execute_reply": "2022-12-25T13:57:16.363457Z"
    },
    "papermill": {
     "duration": 0.080186,
     "end_time": "2022-12-25T13:57:16.368214",
     "exception": false,
     "start_time": "2022-12-25T13:57:16.288028",
     "status": "completed"
    },
    "tags": []
   },
   "outputs": [],
   "source": [
    "# calculate indicators of Egypt over years\n",
    "ind_of_egy = pd.DataFrame(indicator[indicator['CountryName']=='Egypt, Arab Rep.'].groupby(['CountryName', 'Year'])['IndicatorCode'].count())"
   ]
  },
  {
   "cell_type": "code",
   "execution_count": 19,
   "id": "353fe64c",
   "metadata": {
    "execution": {
     "iopub.execute_input": "2022-12-25T13:57:16.393671Z",
     "iopub.status.busy": "2022-12-25T13:57:16.393127Z",
     "iopub.status.idle": "2022-12-25T13:57:20.709930Z",
     "shell.execute_reply": "2022-12-25T13:57:20.708454Z"
    },
    "papermill": {
     "duration": 4.333486,
     "end_time": "2022-12-25T13:57:20.713618",
     "exception": false,
     "start_time": "2022-12-25T13:57:16.380132",
     "status": "completed"
    },
    "tags": []
   },
   "outputs": [
    {
     "data": {
      "text/html": [
       "<div>\n",
       "<style scoped>\n",
       "    .dataframe tbody tr th:only-of-type {\n",
       "        vertical-align: middle;\n",
       "    }\n",
       "\n",
       "    .dataframe tbody tr th {\n",
       "        vertical-align: top;\n",
       "    }\n",
       "\n",
       "    .dataframe thead th {\n",
       "        text-align: right;\n",
       "    }\n",
       "</style>\n",
       "<table border=\"1\" class=\"dataframe\">\n",
       "  <thead>\n",
       "    <tr style=\"text-align: right;\">\n",
       "      <th></th>\n",
       "      <th>IndicatorName</th>\n",
       "    </tr>\n",
       "  </thead>\n",
       "  <tbody>\n",
       "    <tr>\n",
       "      <th>0</th>\n",
       "      <td>2005 PPP conversion factor, GDP (LCU per inter...</td>\n",
       "    </tr>\n",
       "    <tr>\n",
       "      <th>1</th>\n",
       "      <td>2005 PPP conversion factor, private consumptio...</td>\n",
       "    </tr>\n",
       "    <tr>\n",
       "      <th>2</th>\n",
       "      <td>ARI treatment (% of children under 5 taken to ...</td>\n",
       "    </tr>\n",
       "    <tr>\n",
       "      <th>3</th>\n",
       "      <td>Access to electricity (% of population)</td>\n",
       "    </tr>\n",
       "    <tr>\n",
       "      <th>4</th>\n",
       "      <td>Access to electricity, rural (% of rural popul...</td>\n",
       "    </tr>\n",
       "    <tr>\n",
       "      <th>...</th>\n",
       "      <td>...</td>\n",
       "    </tr>\n",
       "    <tr>\n",
       "      <th>1339</th>\n",
       "      <td>Women's share of population ages 15+ living wi...</td>\n",
       "    </tr>\n",
       "    <tr>\n",
       "      <th>1340</th>\n",
       "      <td>Youth literacy rate, population 15-24 years, b...</td>\n",
       "    </tr>\n",
       "    <tr>\n",
       "      <th>1341</th>\n",
       "      <td>Youth literacy rate, population 15-24 years, f...</td>\n",
       "    </tr>\n",
       "    <tr>\n",
       "      <th>1342</th>\n",
       "      <td>Youth literacy rate, population 15-24 years, g...</td>\n",
       "    </tr>\n",
       "    <tr>\n",
       "      <th>1343</th>\n",
       "      <td>Youth literacy rate, population 15-24 years, m...</td>\n",
       "    </tr>\n",
       "  </tbody>\n",
       "</table>\n",
       "<p>1344 rows × 1 columns</p>\n",
       "</div>"
      ],
      "text/plain": [
       "                                          IndicatorName\n",
       "0     2005 PPP conversion factor, GDP (LCU per inter...\n",
       "1     2005 PPP conversion factor, private consumptio...\n",
       "2     ARI treatment (% of children under 5 taken to ...\n",
       "3               Access to electricity (% of population)\n",
       "4     Access to electricity, rural (% of rural popul...\n",
       "...                                                 ...\n",
       "1339  Women's share of population ages 15+ living wi...\n",
       "1340  Youth literacy rate, population 15-24 years, b...\n",
       "1341  Youth literacy rate, population 15-24 years, f...\n",
       "1342  Youth literacy rate, population 15-24 years, g...\n",
       "1343  Youth literacy rate, population 15-24 years, m...\n",
       "\n",
       "[1344 rows x 1 columns]"
      ]
     },
     "execution_count": 19,
     "metadata": {},
     "output_type": "execute_result"
    }
   ],
   "source": [
    "ind=pd.read_sql('''select distinct IndicatorName from Indicators;''', con)\n",
    "ind"
   ]
  },
  {
   "cell_type": "markdown",
   "id": "4e1ccc91",
   "metadata": {
    "papermill": {
     "duration": 0.011184,
     "end_time": "2022-12-25T13:57:20.737132",
     "exception": false,
     "start_time": "2022-12-25T13:57:20.725948",
     "status": "completed"
    },
    "tags": []
   },
   "source": [
    "### There are 1344 different indicators"
   ]
  },
  {
   "cell_type": "code",
   "execution_count": 20,
   "id": "abc12e99",
   "metadata": {
    "execution": {
     "iopub.execute_input": "2022-12-25T13:57:20.762327Z",
     "iopub.status.busy": "2022-12-25T13:57:20.761834Z",
     "iopub.status.idle": "2022-12-25T13:57:20.826015Z",
     "shell.execute_reply": "2022-12-25T13:57:20.824861Z"
    },
    "papermill": {
     "duration": 0.080148,
     "end_time": "2022-12-25T13:57:20.828842",
     "exception": false,
     "start_time": "2022-12-25T13:57:20.748694",
     "status": "completed"
    },
    "tags": []
   },
   "outputs": [
    {
     "data": {
      "text/plain": [
       "IndicatorCode\n",
       "AG.AGR.TRAC.NO              48\n",
       "AG.CON.FERT.PT.ZS           12\n",
       "AG.CON.FERT.ZS              12\n",
       "AG.LND.AGRI.K2              53\n",
       "AG.LND.AGRI.ZS              53\n",
       "                            ..\n",
       "per_sa_allsa.ben_q1_tot      1\n",
       "per_sa_allsa.cov_pop_tot     1\n",
       "per_si_allsi.adq_pop_tot     1\n",
       "per_si_allsi.ben_q1_tot      1\n",
       "per_si_allsi.cov_pop_tot     1\n",
       "Name: IndicatorCode, Length: 1263, dtype: int64"
      ]
     },
     "execution_count": 20,
     "metadata": {},
     "output_type": "execute_result"
    }
   ],
   "source": [
    "# Number of available indicators over years of Egypt.\n",
    "indicator[indicator['CountryName']=='Egypt, Arab Rep.'].groupby('IndicatorCode')['IndicatorCode'].count()"
   ]
  },
  {
   "cell_type": "markdown",
   "id": "bc4ac654",
   "metadata": {
    "papermill": {
     "duration": 0.011692,
     "end_time": "2022-12-25T13:57:20.852419",
     "exception": false,
     "start_time": "2022-12-25T13:57:20.840727",
     "status": "completed"
    },
    "tags": []
   },
   "source": [
    "# Analysis of Development of Egypt"
   ]
  },
  {
   "cell_type": "code",
   "execution_count": 21,
   "id": "488b32f0",
   "metadata": {
    "execution": {
     "iopub.execute_input": "2022-12-25T13:57:20.879439Z",
     "iopub.status.busy": "2022-12-25T13:57:20.878475Z",
     "iopub.status.idle": "2022-12-25T13:57:20.927793Z",
     "shell.execute_reply": "2022-12-25T13:57:20.926396Z"
    },
    "papermill": {
     "duration": 0.066087,
     "end_time": "2022-12-25T13:57:20.931023",
     "exception": false,
     "start_time": "2022-12-25T13:57:20.864936",
     "status": "completed"
    },
    "tags": []
   },
   "outputs": [],
   "source": [
    "egypt = indicator[indicator['CountryName']=='Egypt, Arab Rep.']"
   ]
  },
  {
   "cell_type": "code",
   "execution_count": 22,
   "id": "36e160c6",
   "metadata": {
    "execution": {
     "iopub.execute_input": "2022-12-25T13:57:20.956441Z",
     "iopub.status.busy": "2022-12-25T13:57:20.955990Z",
     "iopub.status.idle": "2022-12-25T13:57:20.970799Z",
     "shell.execute_reply": "2022-12-25T13:57:20.969524Z"
    },
    "papermill": {
     "duration": 0.030427,
     "end_time": "2022-12-25T13:57:20.973349",
     "exception": false,
     "start_time": "2022-12-25T13:57:20.942922",
     "status": "completed"
    },
    "tags": []
   },
   "outputs": [
    {
     "data": {
      "text/html": [
       "<div>\n",
       "<style scoped>\n",
       "    .dataframe tbody tr th:only-of-type {\n",
       "        vertical-align: middle;\n",
       "    }\n",
       "\n",
       "    .dataframe tbody tr th {\n",
       "        vertical-align: top;\n",
       "    }\n",
       "\n",
       "    .dataframe thead th {\n",
       "        text-align: right;\n",
       "    }\n",
       "</style>\n",
       "<table border=\"1\" class=\"dataframe\">\n",
       "  <thead>\n",
       "    <tr style=\"text-align: right;\">\n",
       "      <th></th>\n",
       "      <th>CountryName</th>\n",
       "      <th>CountryCode</th>\n",
       "      <th>IndicatorName</th>\n",
       "      <th>IndicatorCode</th>\n",
       "      <th>Year</th>\n",
       "      <th>Value</th>\n",
       "    </tr>\n",
       "  </thead>\n",
       "  <tbody>\n",
       "    <tr>\n",
       "      <th>430301</th>\n",
       "      <td>West Bank and Gaza</td>\n",
       "      <td>WBG</td>\n",
       "      <td>Time required to get electricity (days)</td>\n",
       "      <td>IC.ELC.TIME</td>\n",
       "      <td>2015</td>\n",
       "      <td>63.0</td>\n",
       "    </tr>\n",
       "    <tr>\n",
       "      <th>430302</th>\n",
       "      <td>West Bank and Gaza</td>\n",
       "      <td>WBG</td>\n",
       "      <td>Time required to register property (days)</td>\n",
       "      <td>IC.PRP.DURS</td>\n",
       "      <td>2015</td>\n",
       "      <td>49.0</td>\n",
       "    </tr>\n",
       "    <tr>\n",
       "      <th>430303</th>\n",
       "      <td>West Bank and Gaza</td>\n",
       "      <td>WBG</td>\n",
       "      <td>Time required to start a business (days)</td>\n",
       "      <td>IC.REG.DURS</td>\n",
       "      <td>2015</td>\n",
       "      <td>44.0</td>\n",
       "    </tr>\n",
       "    <tr>\n",
       "      <th>430304</th>\n",
       "      <td>West Bank and Gaza</td>\n",
       "      <td>WBG</td>\n",
       "      <td>Time to prepare and pay taxes (hours)</td>\n",
       "      <td>IC.TAX.DURS</td>\n",
       "      <td>2015</td>\n",
       "      <td>162.0</td>\n",
       "    </tr>\n",
       "    <tr>\n",
       "      <th>430305</th>\n",
       "      <td>West Bank and Gaza</td>\n",
       "      <td>WBG</td>\n",
       "      <td>Total tax rate (% of commercial profits)</td>\n",
       "      <td>IC.TAX.TOTL.CP.ZS</td>\n",
       "      <td>2015</td>\n",
       "      <td>15.3</td>\n",
       "    </tr>\n",
       "  </tbody>\n",
       "</table>\n",
       "</div>"
      ],
      "text/plain": [
       "               CountryName CountryCode  \\\n",
       "430301  West Bank and Gaza         WBG   \n",
       "430302  West Bank and Gaza         WBG   \n",
       "430303  West Bank and Gaza         WBG   \n",
       "430304  West Bank and Gaza         WBG   \n",
       "430305  West Bank and Gaza         WBG   \n",
       "\n",
       "                                    IndicatorName      IndicatorCode  Year  \\\n",
       "430301    Time required to get electricity (days)        IC.ELC.TIME  2015   \n",
       "430302  Time required to register property (days)        IC.PRP.DURS  2015   \n",
       "430303   Time required to start a business (days)        IC.REG.DURS  2015   \n",
       "430304      Time to prepare and pay taxes (hours)        IC.TAX.DURS  2015   \n",
       "430305   Total tax rate (% of commercial profits)  IC.TAX.TOTL.CP.ZS  2015   \n",
       "\n",
       "        Value  \n",
       "430301   63.0  \n",
       "430302   49.0  \n",
       "430303   44.0  \n",
       "430304  162.0  \n",
       "430305   15.3  "
      ]
     },
     "execution_count": 22,
     "metadata": {},
     "output_type": "execute_result"
    }
   ],
   "source": [
    "indicator.tail()"
   ]
  },
  {
   "cell_type": "code",
   "execution_count": 23,
   "id": "e156dd84",
   "metadata": {
    "_kg_hide-input": true,
    "execution": {
     "iopub.execute_input": "2022-12-25T13:57:20.999298Z",
     "iopub.status.busy": "2022-12-25T13:57:20.998859Z",
     "iopub.status.idle": "2022-12-25T13:57:21.019088Z",
     "shell.execute_reply": "2022-12-25T13:57:21.017555Z"
    },
    "papermill": {
     "duration": 0.036512,
     "end_time": "2022-12-25T13:57:21.021623",
     "exception": false,
     "start_time": "2022-12-25T13:57:20.985111",
     "status": "completed"
    },
    "tags": []
   },
   "outputs": [
    {
     "data": {
      "text/html": [
       "<div>\n",
       "<style scoped>\n",
       "    .dataframe tbody tr th:only-of-type {\n",
       "        vertical-align: middle;\n",
       "    }\n",
       "\n",
       "    .dataframe tbody tr th {\n",
       "        vertical-align: top;\n",
       "    }\n",
       "\n",
       "    .dataframe thead th {\n",
       "        text-align: right;\n",
       "    }\n",
       "</style>\n",
       "<table border=\"1\" class=\"dataframe\">\n",
       "  <thead>\n",
       "    <tr style=\"text-align: right;\">\n",
       "      <th></th>\n",
       "      <th>IndicatorName</th>\n",
       "      <th>Value</th>\n",
       "      <th>Year</th>\n",
       "    </tr>\n",
       "  </thead>\n",
       "  <tbody>\n",
       "    <tr>\n",
       "      <th>101462</th>\n",
       "      <td>Time to prepare and pay taxes (hours)</td>\n",
       "      <td>504.0</td>\n",
       "      <td>2005</td>\n",
       "    </tr>\n",
       "    <tr>\n",
       "      <th>102419</th>\n",
       "      <td>Time to prepare and pay taxes (hours)</td>\n",
       "      <td>595.5</td>\n",
       "      <td>2006</td>\n",
       "    </tr>\n",
       "    <tr>\n",
       "      <th>103388</th>\n",
       "      <td>Time to prepare and pay taxes (hours)</td>\n",
       "      <td>711.0</td>\n",
       "      <td>2007</td>\n",
       "    </tr>\n",
       "    <tr>\n",
       "      <th>104413</th>\n",
       "      <td>Time to prepare and pay taxes (hours)</td>\n",
       "      <td>711.0</td>\n",
       "      <td>2008</td>\n",
       "    </tr>\n",
       "    <tr>\n",
       "      <th>105457</th>\n",
       "      <td>Time to prepare and pay taxes (hours)</td>\n",
       "      <td>480.0</td>\n",
       "      <td>2009</td>\n",
       "    </tr>\n",
       "    <tr>\n",
       "      <th>106487</th>\n",
       "      <td>Time to prepare and pay taxes (hours)</td>\n",
       "      <td>433.0</td>\n",
       "      <td>2010</td>\n",
       "    </tr>\n",
       "    <tr>\n",
       "      <th>107460</th>\n",
       "      <td>Time to prepare and pay taxes (hours)</td>\n",
       "      <td>433.0</td>\n",
       "      <td>2011</td>\n",
       "    </tr>\n",
       "    <tr>\n",
       "      <th>108444</th>\n",
       "      <td>Time to prepare and pay taxes (hours)</td>\n",
       "      <td>392.0</td>\n",
       "      <td>2012</td>\n",
       "    </tr>\n",
       "    <tr>\n",
       "      <th>109354</th>\n",
       "      <td>Time to prepare and pay taxes (hours)</td>\n",
       "      <td>392.0</td>\n",
       "      <td>2013</td>\n",
       "    </tr>\n",
       "    <tr>\n",
       "      <th>110031</th>\n",
       "      <td>Time to prepare and pay taxes (hours)</td>\n",
       "      <td>392.0</td>\n",
       "      <td>2014</td>\n",
       "    </tr>\n",
       "    <tr>\n",
       "      <th>110143</th>\n",
       "      <td>Time to prepare and pay taxes (hours)</td>\n",
       "      <td>392.0</td>\n",
       "      <td>2015</td>\n",
       "    </tr>\n",
       "  </tbody>\n",
       "</table>\n",
       "</div>"
      ],
      "text/plain": [
       "                                IndicatorName  Value  Year\n",
       "101462  Time to prepare and pay taxes (hours)  504.0  2005\n",
       "102419  Time to prepare and pay taxes (hours)  595.5  2006\n",
       "103388  Time to prepare and pay taxes (hours)  711.0  2007\n",
       "104413  Time to prepare and pay taxes (hours)  711.0  2008\n",
       "105457  Time to prepare and pay taxes (hours)  480.0  2009\n",
       "106487  Time to prepare and pay taxes (hours)  433.0  2010\n",
       "107460  Time to prepare and pay taxes (hours)  433.0  2011\n",
       "108444  Time to prepare and pay taxes (hours)  392.0  2012\n",
       "109354  Time to prepare and pay taxes (hours)  392.0  2013\n",
       "110031  Time to prepare and pay taxes (hours)  392.0  2014\n",
       "110143  Time to prepare and pay taxes (hours)  392.0  2015"
      ]
     },
     "execution_count": 23,
     "metadata": {},
     "output_type": "execute_result"
    }
   ],
   "source": [
    "#Time to prepare and pay taxes (hours) of Egypt\n",
    "tax_eg = egypt[egypt['IndicatorCode']=='IC.TAX.DURS'][['IndicatorName', 'Value', 'Year']]\n",
    "tax_eg"
   ]
  },
  {
   "cell_type": "code",
   "execution_count": 24,
   "id": "2ae5d026",
   "metadata": {
    "execution": {
     "iopub.execute_input": "2022-12-25T13:57:21.047984Z",
     "iopub.status.busy": "2022-12-25T13:57:21.047481Z",
     "iopub.status.idle": "2022-12-25T13:57:21.327303Z",
     "shell.execute_reply": "2022-12-25T13:57:21.325772Z"
    },
    "papermill": {
     "duration": 0.296729,
     "end_time": "2022-12-25T13:57:21.330478",
     "exception": false,
     "start_time": "2022-12-25T13:57:21.033749",
     "status": "completed"
    },
    "tags": []
   },
   "outputs": [
    {
     "data": {
      "image/png": "[encoded data removed]",
      "text/plain": [
       "<Figure size 432x288 with 1 Axes>"
      ]
     },
     "metadata": {
      "needs_background": "light"
     },
     "output_type": "display_data"
    }
   ],
   "source": [
    "sns.barplot(x=tax_eg['Year'], y=tax_eg[\"Value\"])\n",
    "plt.title('Time to prepare and pay taxes (hours) of Egypt');"
   ]
  },
  {
   "cell_type": "code",
   "execution_count": 25,
   "id": "bd03ef80",
   "metadata": {
    "_kg_hide-input": true,
    "execution": {
     "iopub.execute_input": "2022-12-25T13:57:21.357236Z",
     "iopub.status.busy": "2022-12-25T13:57:21.356781Z",
     "iopub.status.idle": "2022-12-25T13:57:21.377581Z",
     "shell.execute_reply": "2022-12-25T13:57:21.376102Z"
    },
    "papermill": {
     "duration": 0.037066,
     "end_time": "2022-12-25T13:57:21.380130",
     "exception": false,
     "start_time": "2022-12-25T13:57:21.343064",
     "status": "completed"
    },
    "tags": []
   },
   "outputs": [
    {
     "data": {
      "text/html": [
       "<div>\n",
       "<style scoped>\n",
       "    .dataframe tbody tr th:only-of-type {\n",
       "        vertical-align: middle;\n",
       "    }\n",
       "\n",
       "    .dataframe tbody tr th {\n",
       "        vertical-align: top;\n",
       "    }\n",
       "\n",
       "    .dataframe thead th {\n",
       "        text-align: right;\n",
       "    }\n",
       "</style>\n",
       "<table border=\"1\" class=\"dataframe\">\n",
       "  <thead>\n",
       "    <tr style=\"text-align: right;\">\n",
       "      <th></th>\n",
       "      <th>IndicatorName</th>\n",
       "      <th>Value</th>\n",
       "      <th>Year</th>\n",
       "    </tr>\n",
       "  </thead>\n",
       "  <tbody>\n",
       "    <tr>\n",
       "      <th>98009</th>\n",
       "      <td>Fertilizer consumption (kilograms per hectare ...</td>\n",
       "      <td>432.532698</td>\n",
       "      <td>2002</td>\n",
       "    </tr>\n",
       "    <tr>\n",
       "      <th>98900</th>\n",
       "      <td>Fertilizer consumption (kilograms per hectare ...</td>\n",
       "      <td>627.750516</td>\n",
       "      <td>2003</td>\n",
       "    </tr>\n",
       "    <tr>\n",
       "      <th>99797</th>\n",
       "      <td>Fertilizer consumption (kilograms per hectare ...</td>\n",
       "      <td>557.593929</td>\n",
       "      <td>2004</td>\n",
       "    </tr>\n",
       "    <tr>\n",
       "      <th>100760</th>\n",
       "      <td>Fertilizer consumption (kilograms per hectare ...</td>\n",
       "      <td>672.883340</td>\n",
       "      <td>2005</td>\n",
       "    </tr>\n",
       "    <tr>\n",
       "      <th>101774</th>\n",
       "      <td>Fertilizer consumption (kilograms per hectare ...</td>\n",
       "      <td>492.123225</td>\n",
       "      <td>2006</td>\n",
       "    </tr>\n",
       "    <tr>\n",
       "      <th>102724</th>\n",
       "      <td>Fertilizer consumption (kilograms per hectare ...</td>\n",
       "      <td>521.787441</td>\n",
       "      <td>2007</td>\n",
       "    </tr>\n",
       "    <tr>\n",
       "      <th>103708</th>\n",
       "      <td>Fertilizer consumption (kilograms per hectare ...</td>\n",
       "      <td>696.593111</td>\n",
       "      <td>2008</td>\n",
       "    </tr>\n",
       "    <tr>\n",
       "      <th>104759</th>\n",
       "      <td>Fertilizer consumption (kilograms per hectare ...</td>\n",
       "      <td>502.825243</td>\n",
       "      <td>2009</td>\n",
       "    </tr>\n",
       "    <tr>\n",
       "      <th>105781</th>\n",
       "      <td>Fertilizer consumption (kilograms per hectare ...</td>\n",
       "      <td>602.986425</td>\n",
       "      <td>2010</td>\n",
       "    </tr>\n",
       "    <tr>\n",
       "      <th>106795</th>\n",
       "      <td>Fertilizer consumption (kilograms per hectare ...</td>\n",
       "      <td>600.473647</td>\n",
       "      <td>2011</td>\n",
       "    </tr>\n",
       "    <tr>\n",
       "      <th>107761</th>\n",
       "      <td>Fertilizer consumption (kilograms per hectare ...</td>\n",
       "      <td>569.540474</td>\n",
       "      <td>2012</td>\n",
       "    </tr>\n",
       "    <tr>\n",
       "      <th>108710</th>\n",
       "      <td>Fertilizer consumption (kilograms per hectare ...</td>\n",
       "      <td>636.387874</td>\n",
       "      <td>2013</td>\n",
       "    </tr>\n",
       "  </tbody>\n",
       "</table>\n",
       "</div>"
      ],
      "text/plain": [
       "                                            IndicatorName       Value  Year\n",
       "98009   Fertilizer consumption (kilograms per hectare ...  432.532698  2002\n",
       "98900   Fertilizer consumption (kilograms per hectare ...  627.750516  2003\n",
       "99797   Fertilizer consumption (kilograms per hectare ...  557.593929  2004\n",
       "100760  Fertilizer consumption (kilograms per hectare ...  672.883340  2005\n",
       "101774  Fertilizer consumption (kilograms per hectare ...  492.123225  2006\n",
       "102724  Fertilizer consumption (kilograms per hectare ...  521.787441  2007\n",
       "103708  Fertilizer consumption (kilograms per hectare ...  696.593111  2008\n",
       "104759  Fertilizer consumption (kilograms per hectare ...  502.825243  2009\n",
       "105781  Fertilizer consumption (kilograms per hectare ...  602.986425  2010\n",
       "106795  Fertilizer consumption (kilograms per hectare ...  600.473647  2011\n",
       "107761  Fertilizer consumption (kilograms per hectare ...  569.540474  2012\n",
       "108710  Fertilizer consumption (kilograms per hectare ...  636.387874  2013"
      ]
     },
     "execution_count": 25,
     "metadata": {},
     "output_type": "execute_result"
    }
   ],
   "source": [
    "#Fertilizer consumption (kilograms per hectare of Egypt)\n",
    "fer_eg = egypt[egypt['IndicatorCode']=='AG.CON.FERT.ZS'][['IndicatorName', 'Value', 'Year']]\n",
    "fer_eg"
   ]
  },
  {
   "cell_type": "code",
   "execution_count": 26,
   "id": "f0165d39",
   "metadata": {
    "execution": {
     "iopub.execute_input": "2022-12-25T13:57:21.408339Z",
     "iopub.status.busy": "2022-12-25T13:57:21.407857Z",
     "iopub.status.idle": "2022-12-25T13:57:21.698877Z",
     "shell.execute_reply": "2022-12-25T13:57:21.697439Z"
    },
    "papermill": {
     "duration": 0.308436,
     "end_time": "2022-12-25T13:57:21.701959",
     "exception": false,
     "start_time": "2022-12-25T13:57:21.393523",
     "status": "completed"
    },
    "tags": []
   },
   "outputs": [
    {
     "data": {
      "image/png": "[encoded data removed]",
      "text/plain": [
       "<Figure size 432x288 with 1 Axes>"
      ]
     },
     "metadata": {
      "needs_background": "light"
     },
     "output_type": "display_data"
    }
   ],
   "source": [
    "sns.barplot(x=fer_eg['Year'], y=fer_eg[\"Value\"])\n",
    "plt.title('Fertilizer consumption (kilograms per hectare of Egypt');"
   ]
  },
  {
   "cell_type": "code",
   "execution_count": 27,
   "id": "6f47acc2",
   "metadata": {
    "execution": {
     "iopub.execute_input": "2022-12-25T13:57:21.730617Z",
     "iopub.status.busy": "2022-12-25T13:57:21.730118Z",
     "iopub.status.idle": "2022-12-25T13:57:21.742845Z",
     "shell.execute_reply": "2022-12-25T13:57:21.741315Z"
    },
    "papermill": {
     "duration": 0.030586,
     "end_time": "2022-12-25T13:57:21.745980",
     "exception": false,
     "start_time": "2022-12-25T13:57:21.715394",
     "status": "completed"
    },
    "tags": []
   },
   "outputs": [],
   "source": [
    "#Agriculture land (sq.km) of Egypt over years\n",
    "Ag_Eg = egypt[egypt['IndicatorCode']=='AG.LND.AGRI.K2'][['IndicatorName', 'Value']]"
   ]
  },
  {
   "cell_type": "code",
   "execution_count": 28,
   "id": "2ffc97b8",
   "metadata": {
    "execution": {
     "iopub.execute_input": "2022-12-25T13:57:21.775272Z",
     "iopub.status.busy": "2022-12-25T13:57:21.774366Z",
     "iopub.status.idle": "2022-12-25T13:57:22.031686Z",
     "shell.execute_reply": "2022-12-25T13:57:22.030404Z"
    },
    "papermill": {
     "duration": 0.274925,
     "end_time": "2022-12-25T13:57:22.034589",
     "exception": false,
     "start_time": "2022-12-25T13:57:21.759664",
     "status": "completed"
    },
    "tags": []
   },
   "outputs": [
    {
     "data": {
      "image/png": "[encoded data removed]",
      "text/plain": [
       "<Figure size 432x288 with 1 Axes>"
      ]
     },
     "metadata": {
      "needs_background": "light"
     },
     "output_type": "display_data"
    }
   ],
   "source": [
    "Ag_Eg.plot()\n",
    "plt.title(\"Agriculture land (sq.km) of Egypt over years(1960:2015)\");"
   ]
  },
  {
   "cell_type": "code",
   "execution_count": 29,
   "id": "4a45e781",
   "metadata": {
    "execution": {
     "iopub.execute_input": "2022-12-25T13:57:22.063315Z",
     "iopub.status.busy": "2022-12-25T13:57:22.062833Z",
     "iopub.status.idle": "2022-12-25T13:57:25.663199Z",
     "shell.execute_reply": "2022-12-25T13:57:25.661297Z"
    },
    "papermill": {
     "duration": 3.618437,
     "end_time": "2022-12-25T13:57:25.666514",
     "exception": false,
     "start_time": "2022-12-25T13:57:22.048077",
     "status": "completed"
    },
    "tags": []
   },
   "outputs": [
    {
     "data": {
      "text/html": [
       "<div>\n",
       "<style scoped>\n",
       "    .dataframe tbody tr th:only-of-type {\n",
       "        vertical-align: middle;\n",
       "    }\n",
       "\n",
       "    .dataframe tbody tr th {\n",
       "        vertical-align: top;\n",
       "    }\n",
       "\n",
       "    .dataframe thead th {\n",
       "        text-align: right;\n",
       "    }\n",
       "</style>\n",
       "<table border=\"1\" class=\"dataframe\">\n",
       "  <thead>\n",
       "    <tr style=\"text-align: right;\">\n",
       "      <th></th>\n",
       "      <th>IndicatorName</th>\n",
       "    </tr>\n",
       "  </thead>\n",
       "  <tbody>\n",
       "    <tr>\n",
       "      <th>1000</th>\n",
       "      <td>PPG, official creditors (NTR, current US$)</td>\n",
       "    </tr>\n",
       "    <tr>\n",
       "      <th>1001</th>\n",
       "      <td>PPG, official creditors (TDS, current US$)</td>\n",
       "    </tr>\n",
       "    <tr>\n",
       "      <th>1002</th>\n",
       "      <td>PPG, other private creditors (AMT, current US$)</td>\n",
       "    </tr>\n",
       "    <tr>\n",
       "      <th>1003</th>\n",
       "      <td>PPG, other private creditors (DIS, current US$)</td>\n",
       "    </tr>\n",
       "    <tr>\n",
       "      <th>1004</th>\n",
       "      <td>PPG, other private creditors (DOD, current US$)</td>\n",
       "    </tr>\n",
       "    <tr>\n",
       "      <th>...</th>\n",
       "      <td>...</td>\n",
       "    </tr>\n",
       "    <tr>\n",
       "      <th>1339</th>\n",
       "      <td>Women's share of population ages 15+ living wi...</td>\n",
       "    </tr>\n",
       "    <tr>\n",
       "      <th>1340</th>\n",
       "      <td>Youth literacy rate, population 15-24 years, b...</td>\n",
       "    </tr>\n",
       "    <tr>\n",
       "      <th>1341</th>\n",
       "      <td>Youth literacy rate, population 15-24 years, f...</td>\n",
       "    </tr>\n",
       "    <tr>\n",
       "      <th>1342</th>\n",
       "      <td>Youth literacy rate, population 15-24 years, g...</td>\n",
       "    </tr>\n",
       "    <tr>\n",
       "      <th>1343</th>\n",
       "      <td>Youth literacy rate, population 15-24 years, m...</td>\n",
       "    </tr>\n",
       "  </tbody>\n",
       "</table>\n",
       "<p>344 rows × 1 columns</p>\n",
       "</div>"
      ],
      "text/plain": [
       "                                          IndicatorName\n",
       "1000         PPG, official creditors (NTR, current US$)\n",
       "1001         PPG, official creditors (TDS, current US$)\n",
       "1002    PPG, other private creditors (AMT, current US$)\n",
       "1003    PPG, other private creditors (DIS, current US$)\n",
       "1004    PPG, other private creditors (DOD, current US$)\n",
       "...                                                 ...\n",
       "1339  Women's share of population ages 15+ living wi...\n",
       "1340  Youth literacy rate, population 15-24 years, b...\n",
       "1341  Youth literacy rate, population 15-24 years, f...\n",
       "1342  Youth literacy rate, population 15-24 years, g...\n",
       "1343  Youth literacy rate, population 15-24 years, m...\n",
       "\n",
       "[344 rows x 1 columns]"
      ]
     },
     "execution_count": 29,
     "metadata": {},
     "output_type": "execute_result"
    }
   ],
   "source": [
    "ind=pd.read_sql('''select distinct IndicatorName from Indicators;''', con)\n",
    "ind[1000:]"
   ]
  }
 ],
 "metadata": {
  "kernelspec": {
   "display_name": "Python 3",
   "language": "python",
   "name": "python3"
  },
  "language_info": {
   "codemirror_mode": {
    "name": "ipython",
    "version": 3
   },
   "file_extension": ".py",
   "mimetype": "text/x-python",
   "name": "python",
   "nbconvert_exporter": "python",
   "pygments_lexer": "ipython3",
   "version": "3.7.12"
  },
  "papermill": {
   "default_parameters": {},
   "duration": 30.810438,
   "end_time": "2022-12-25T13:57:26.705955",
   "environment_variables": {},
   "exception": null,
   "input_path": "__notebook__.ipynb",
   "output_path": "__notebook__.ipynb",
   "parameters": {},
   "start_time": "2022-12-25T13:56:55.895517",
   "version": "2.3.4"
  }
 },
 "nbformat": 4,
 "nbformat_minor": 5
}
